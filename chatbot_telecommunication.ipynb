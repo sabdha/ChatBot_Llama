{
 "cells": [
  {
   "cell_type": "markdown",
   "id": "92074629",
   "metadata": {},
   "source": [
    "## Reference  \n",
    "https://www.youtube.com/watch?v=d0o89z134CQ  \n",
    "https://www.youtube.com/watch?v=E4l91XKQSgw  \n",
    "https://github.com/techwithtim/LocalAIAgentWithRAG/blob/main/main.py"
   ]
  },
  {
   "cell_type": "markdown",
   "id": "7f94abe3-47c8-4b95-94ae-9b263c98a23e",
   "metadata": {},
   "source": [
    "## This code should be run in py312 environment  \n",
    "### Change Kernel to the kernel for chatbot_telecommunication.ipynb\n",
    "!conda create -n py312 python=3.12  \n",
    "!conda activate py312  \n",
    "!pip install ipykernel  \n",
    "!pip install --upgrade notebook jupyter_client traitlets jupyterlab ipykernel  \n",
    "!pip uninstall jupyter_client -y  \n",
    "!pip install jupyter_client  "
   ]
  },
  {
   "cell_type": "code",
   "execution_count": null,
   "id": "8b3eca11",
   "metadata": {},
   "outputs": [],
   "source": [
    "!conda create -n py312 python=3.12"
   ]
  },
  {
   "cell_type": "code",
   "execution_count": null,
   "id": "f59507b8",
   "metadata": {},
   "outputs": [],
   "source": [
    "!conda activate py312\n",
    "!python -m ipykernel"
   ]
  },
  {
   "cell_type": "code",
   "execution_count": 1,
   "id": "73d12500",
   "metadata": {},
   "outputs": [
    {
     "name": "stdout",
     "output_type": "stream",
     "text": [
      "Python 3.12.9\n"
     ]
    }
   ],
   "source": [
    "!python --version"
   ]
  },
  {
   "cell_type": "code",
   "execution_count": 1,
   "id": "84a689e0-5117-4f47-a488-8e2e12e34248",
   "metadata": {
    "scrolled": true
   },
   "outputs": [
    {
     "name": "stderr",
     "output_type": "stream",
     "text": [
      "\u001b[?2026h\u001b[?25l\u001b[1Gpulling manifest â ‹ \u001b[K\u001b[?25h\u001b[?2026l\u001b[?2026h\u001b[?25l\u001b[1Gpulling manifest â ™ \u001b[K\u001b[?25h\u001b[?2026l\u001b[?2026h\u001b[?25l\u001b[1Gpulling manifest â ¹ \u001b[K\u001b[?25h\u001b[?2026l\u001b[?2026h\u001b[?25l\u001b[1Gpulling manifest â ¸ \u001b[K\u001b[?25h\u001b[?2026l\u001b[?2026h\u001b[?25l\u001b[1Gpulling manifest â ¼ \u001b[K\u001b[?25h\u001b[?2026l\u001b[?2026h\u001b[?25l\u001b[1Gpulling manifest â ´ \u001b[K\u001b[?25h\u001b[?2026l\u001b[?2026h\u001b[?25l\u001b[1Gpulling manifest â ¦ \u001b[K\u001b[?25h\u001b[?2026l\u001b[?2026h\u001b[?25l\u001b[1Gpulling manifest â § \u001b[K\u001b[?25h\u001b[?2026l\u001b[?2026h\u001b[?25l\u001b[1Gpulling manifest â ‡ \u001b[K\u001b[?25h\u001b[?2026l\u001b[?2026h\u001b[?25l\u001b[1Gpulling manifest â � \u001b[K\u001b[?25h\u001b[?2026l\u001b[?2026h\u001b[?25l\u001b[1Gpulling manifest â ‹ \u001b[K\u001b[?25h\u001b[?2026l\u001b[?2026h\u001b[?25l\u001b[1Gpulling manifest \u001b[K\n",
      "pulling 6a0746a1ec1a: 100% â–•â–ˆâ–ˆâ–ˆâ–ˆâ–ˆâ–ˆâ–ˆâ–ˆâ–ˆâ–ˆâ–ˆâ–ˆâ–ˆâ–ˆâ–ˆâ–ˆâ–ˆâ–ˆâ–� 4.7 GB                         \u001b[K\n",
      "pulling 4fa551d4f938: 100% â–•â–ˆâ–ˆâ–ˆâ–ˆâ–ˆâ–ˆâ–ˆâ–ˆâ–ˆâ–ˆâ–ˆâ–ˆâ–ˆâ–ˆâ–ˆâ–ˆâ–ˆâ–ˆâ–�  12 KB                         \u001b[K\n",
      "pulling 8ab4849b038c: 100% â–•â–ˆâ–ˆâ–ˆâ–ˆâ–ˆâ–ˆâ–ˆâ–ˆâ–ˆâ–ˆâ–ˆâ–ˆâ–ˆâ–ˆâ–ˆâ–ˆâ–ˆâ–ˆâ–�  254 B                         \u001b[K\n",
      "pulling 577073ffcc6c: 100% â–•â–ˆâ–ˆâ–ˆâ–ˆâ–ˆâ–ˆâ–ˆâ–ˆâ–ˆâ–ˆâ–ˆâ–ˆâ–ˆâ–ˆâ–ˆâ–ˆâ–ˆâ–ˆâ–�  110 B                         \u001b[K\n",
      "pulling 3f8eb4da87fa: 100% â–•â–ˆâ–ˆâ–ˆâ–ˆâ–ˆâ–ˆâ–ˆâ–ˆâ–ˆâ–ˆâ–ˆâ–ˆâ–ˆâ–ˆâ–ˆâ–ˆâ–ˆâ–ˆâ–�  485 B                         \u001b[K\n",
      "verifying sha256 digest \u001b[K\n",
      "writing manifest \u001b[K\n",
      "success \u001b[K\u001b[?25h\u001b[?2026l\n",
      "\u001b[?2026h\u001b[?25l\u001b[1Gpulling manifest â ‹ \u001b[K\u001b[?25h\u001b[?2026l\u001b[?2026h\u001b[?25l\u001b[1Gpulling manifest â ™ \u001b[K\u001b[?25h\u001b[?2026l\u001b[?2026h\u001b[?25l\u001b[1Gpulling manifest â ¹ \u001b[K\u001b[?25h\u001b[?2026l\u001b[?2026h\u001b[?25l\u001b[1Gpulling manifest â ¸ \u001b[K\u001b[?25h\u001b[?2026l\u001b[?2026h\u001b[?25l\u001b[1Gpulling manifest â ¼ \u001b[K\u001b[?25h\u001b[?2026l\u001b[?2026h\u001b[?25l\u001b[1Gpulling manifest â ´ \u001b[K\u001b[?25h\u001b[?2026l\u001b[?2026h\u001b[?25l\u001b[1Gpulling manifest â ¦ \u001b[K\u001b[?25h\u001b[?2026l\u001b[?2026h\u001b[?25l\u001b[1Gpulling manifest \u001b[K\n",
      "pulling 970aa74c0a90: 100% â–•â–ˆâ–ˆâ–ˆâ–ˆâ–ˆâ–ˆâ–ˆâ–ˆâ–ˆâ–ˆâ–ˆâ–ˆâ–ˆâ–ˆâ–ˆâ–ˆâ–ˆâ–ˆâ–� 274 MB                         \u001b[K\n",
      "pulling c71d239df917: 100% â–•â–ˆâ–ˆâ–ˆâ–ˆâ–ˆâ–ˆâ–ˆâ–ˆâ–ˆâ–ˆâ–ˆâ–ˆâ–ˆâ–ˆâ–ˆâ–ˆâ–ˆâ–ˆâ–�  11 KB                         \u001b[K\n",
      "pulling ce4a164fc046: 100% â–•â–ˆâ–ˆâ–ˆâ–ˆâ–ˆâ–ˆâ–ˆâ–ˆâ–ˆâ–ˆâ–ˆâ–ˆâ–ˆâ–ˆâ–ˆâ–ˆâ–ˆâ–ˆâ–�   17 B                         \u001b[K\n",
      "pulling 31df23ea7daa: 100% â–•â–ˆâ–ˆâ–ˆâ–ˆâ–ˆâ–ˆâ–ˆâ–ˆâ–ˆâ–ˆâ–ˆâ–ˆâ–ˆâ–ˆâ–ˆâ–ˆâ–ˆâ–ˆâ–�  420 B                         \u001b[K\n",
      "verifying sha256 digest \u001b[K\n",
      "writing manifest \u001b[K\n",
      "success \u001b[K\u001b[?25h\u001b[?2026l\n"
     ]
    }
   ],
   "source": [
    "!pip install ipykernel\n",
    "!pip install --upgrade notebook jupyter_client traitlets jupyterlab ipykernel\n",
    "!pip uninstall jupyter_client -y\n",
    "!pip install jupyter_client\n",
    "!pip install langchain langchain-community langchain-text-splitters chromadb\n",
    "!pip install jupyterlab-lsp python-lsp-server[all]\n",
    "!jupyter lab build\n",
    "!pip install streamlit\n",
    "!ollama pull llama3\n",
    "!ollama pull nomic-embed-text"
   ]
  },
  {
   "cell_type": "markdown",
   "id": "a9b34a1b",
   "metadata": {},
   "source": [
    "######### SAMPLE FOR LEARNING ################3"
   ]
  },
  {
   "cell_type": "markdown",
   "id": "dcfbfb7e-8607-4915-a97b-e9d9e5be2733",
   "metadata": {},
   "source": [
    "## ########### Telecommunication Customer Care Chatbot ############# ##"
   ]
  },
  {
   "cell_type": "code",
   "execution_count": null,
   "id": "890200a9-88f7-4490-824f-4b313583ee57",
   "metadata": {},
   "outputs": [],
   "source": [
    "!streamlit run app.py"
   ]
  },
  {
   "cell_type": "markdown",
   "id": "6ac2d282-c11f-45c1-9f64-3c6f245ccd6b",
   "metadata": {},
   "source": [
    "######### SAMPLE FOR LEARNING ################3"
   ]
  },
  {
   "cell_type": "code",
   "execution_count": null,
   "id": "11974da2",
   "metadata": {
    "scrolled": true
   },
   "outputs": [],
   "source": [
    "######### SAMPLE FOR LEARNING ################3\n",
    "llm = Ollama(model=LLM_MODEL)\n",
    "# template = \"\"\"You are a helpful assistant for Dhanya Tele.\n",
    "# Answer the following question based *only* on the provided context.\n",
    "# If the context doesn't contain the answer, politely state that you cannot answer from the provided information.\n",
    "# Be concise.\n",
    "template = \"\"\"\n",
    "You are a helpful assistant for Dhanya Tele.\n",
    "Answer the following question below.\n",
    "Context:{context}\n",
    "\n",
    "Question: {question}\n",
    "\n",
    "Answer:\n",
    "\"\"\"\n",
    "prompt = ChatPromptTemplate.from_template(template)\n",
    "chain =prompt|llm\n",
    "def handle_conversation():\n",
    "    context = \"\"\n",
    "    print(\"welcome to the AI ChatBot, Type 'exit' to quit.\")\n",
    "    while True:\n",
    "        user_input = input(\"You: \")\n",
    "        if user_input.lower()==\"exit\":\n",
    "            break\n",
    "        result = chain.invoke( {\"context\": context, \"question\": user_input})\n",
    "        print(\"Bot:\", result)\n",
    "        context += f\"\\nUser:{user_input}\\n AI: {result}\"\n",
    "    \n",
    "if __name__ == \"__main__\":\n",
    "    handle_conversation()"
   ]
  },
  {
   "cell_type": "markdown",
   "id": "5b716059-5bcf-47c5-9260-a20792364816",
   "metadata": {},
   "source": [
    "##############################################################3"
   ]
  },
  {
   "cell_type": "code",
   "execution_count": null,
   "id": "8a61f0db",
   "metadata": {},
   "outputs": [],
   "source": []
  }
 ],
 "metadata": {
  "kernelspec": {
   "display_name": "Python 3 (ipykernel)",
   "language": "python",
   "name": "python3"
  },
  "language_info": {
   "codemirror_mode": {
    "name": "ipython",
    "version": 3
   },
   "file_extension": ".py",
   "mimetype": "text/x-python",
   "name": "python",
   "nbconvert_exporter": "python",
   "pygments_lexer": "ipython3",
   "version": "3.12.9"
  }
 },
 "nbformat": 4,
 "nbformat_minor": 5
}
